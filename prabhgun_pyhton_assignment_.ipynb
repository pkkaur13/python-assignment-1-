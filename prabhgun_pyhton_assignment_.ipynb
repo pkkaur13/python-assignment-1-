{
  "nbformat": 4,
  "nbformat_minor": 0,
  "metadata": {
    "colab": {
      "provenance": [],
      "authorship_tag": "ABX9TyM5EOKicsSeb8mAYaFG3MJu"
    },
    "kernelspec": {
      "name": "python3",
      "display_name": "Python 3"
    },
    "language_info": {
      "name": "python"
    }
  },
  "cells": [
    {
      "cell_type": "markdown",
      "source": [
        "\n",
        "PYTHON ASSIGNMENT \n",
        "Assignment 1 "
      ],
      "metadata": {
        "id": "bxdA8liR5tQK"
      }
    },
    {
      "cell_type": "markdown",
      "source": [
        "Q1 \n",
        "\n",
        "(i)"
      ],
      "metadata": {
        "id": "HZmf3fz16Eqc"
      }
    },
    {
      "cell_type": "code",
      "source": [
        "L = [11, 12, 13, 14]\n",
        "L.append(50)\n",
        "L.append(60)\n",
        "print(L)\n"
      ],
      "metadata": {
        "colab": {
          "base_uri": "https://localhost:8080/"
        },
        "id": "5kjWBLd055GT",
        "outputId": "4d36d02e-8d20-4242-e5f1-9fd03585fcb6"
      },
      "execution_count": 1,
      "outputs": [
        {
          "output_type": "stream",
          "name": "stdout",
          "text": [
            "[11, 12, 13, 14, 50, 60]\n"
          ]
        }
      ]
    },
    {
      "cell_type": "markdown",
      "source": [
        "(ii)"
      ],
      "metadata": {
        "id": "JsIjhYZB6Kb1"
      }
    },
    {
      "cell_type": "code",
      "source": [
        "L = [11, 12, 13, 14]\n",
        "L.remove(11)\n",
        "L.remove(13)\n",
        "print(L)\n"
      ],
      "metadata": {
        "colab": {
          "base_uri": "https://localhost:8080/"
        },
        "id": "jlsE2rRY6M5i",
        "outputId": "2166e88f-73ff-48f5-ee9d-93ce8fa9af74"
      },
      "execution_count": 2,
      "outputs": [
        {
          "output_type": "stream",
          "name": "stdout",
          "text": [
            "[12, 14]\n"
          ]
        }
      ]
    },
    {
      "cell_type": "markdown",
      "source": [
        "(iii)"
      ],
      "metadata": {
        "id": "2zp4zXd26aZT"
      }
    },
    {
      "cell_type": "code",
      "source": [
        "L = [11, 12, 13, 14]\n",
        "L.sort()\n",
        "print(L)\n"
      ],
      "metadata": {
        "colab": {
          "base_uri": "https://localhost:8080/"
        },
        "id": "gZW1WMLM6cO4",
        "outputId": "76d38493-b453-43fc-8f39-11e01037f2f6"
      },
      "execution_count": 3,
      "outputs": [
        {
          "output_type": "stream",
          "name": "stdout",
          "text": [
            "[11, 12, 13, 14]\n"
          ]
        }
      ]
    },
    {
      "cell_type": "markdown",
      "source": [
        "(iv)"
      ],
      "metadata": {
        "id": "edEqsXTI6fHh"
      }
    },
    {
      "cell_type": "code",
      "source": [
        "L = [11, 12, 13, 14]\n",
        "L.sort(reverse=True)\n",
        "print(L)\n"
      ],
      "metadata": {
        "colab": {
          "base_uri": "https://localhost:8080/"
        },
        "id": "KRxb11mX6gbY",
        "outputId": "09612894-9f2a-4e1d-a1be-603ea1c812be"
      },
      "execution_count": 4,
      "outputs": [
        {
          "output_type": "stream",
          "name": "stdout",
          "text": [
            "[14, 13, 12, 11]\n"
          ]
        }
      ]
    },
    {
      "cell_type": "markdown",
      "source": [
        "(v)\n"
      ],
      "metadata": {
        "id": "A8vnmGre6kxG"
      }
    },
    {
      "cell_type": "code",
      "source": [
        "L = [11, 12, 13, 14]\n",
        "if 13 in L:\n",
        "    print(\"13 is present in L\")\n",
        "else:\n",
        "    print(\"13 is not present in L\")\n"
      ],
      "metadata": {
        "colab": {
          "base_uri": "https://localhost:8080/"
        },
        "id": "5ecdxjKx6mJY",
        "outputId": "a383d1d8-a9b5-49f2-b2f0-690cffe1c9f1"
      },
      "execution_count": 5,
      "outputs": [
        {
          "output_type": "stream",
          "name": "stdout",
          "text": [
            "13 is present in L\n"
          ]
        }
      ]
    },
    {
      "cell_type": "markdown",
      "source": [
        "(vi)"
      ],
      "metadata": {
        "id": "u63sdX6t6sue"
      }
    },
    {
      "cell_type": "code",
      "source": [
        "L = [11, 12, 13, 14]\n",
        "count = len(L)\n",
        "print(\"Number of elements in L:\", count)\n"
      ],
      "metadata": {
        "colab": {
          "base_uri": "https://localhost:8080/"
        },
        "id": "nN-W5AW56uzT",
        "outputId": "de02b367-6993-41da-b171-9000421c9869"
      },
      "execution_count": 6,
      "outputs": [
        {
          "output_type": "stream",
          "name": "stdout",
          "text": [
            "Number of elements in L: 4\n"
          ]
        }
      ]
    },
    {
      "cell_type": "markdown",
      "source": [
        "(vii)"
      ],
      "metadata": {
        "id": "8pTWoCHS60eC"
      }
    },
    {
      "cell_type": "code",
      "source": [
        "L = [11, 12, 13, 14]\n",
        "total_sum = sum(L)\n",
        "print(\"Sum of all elements in L:\", total_sum)\n"
      ],
      "metadata": {
        "colab": {
          "base_uri": "https://localhost:8080/"
        },
        "id": "E91mfTkD62Ds",
        "outputId": "076d0e01-6c26-4aa7-c700-b5070332dd56"
      },
      "execution_count": 7,
      "outputs": [
        {
          "output_type": "stream",
          "name": "stdout",
          "text": [
            "Sum of all elements in L: 50\n"
          ]
        }
      ]
    },
    {
      "cell_type": "markdown",
      "source": [
        "(viii)"
      ],
      "metadata": {
        "id": "JhbeACgP67UI"
      }
    },
    {
      "cell_type": "code",
      "source": [
        "L = [11, 12, 13, 14]\n",
        "odd_sum = sum(num for num in L if num % 2 != 0)\n",
        "print(\"Sum of odd numbers in L:\", odd_sum)\n"
      ],
      "metadata": {
        "colab": {
          "base_uri": "https://localhost:8080/"
        },
        "id": "aLwwmhkL6_yG",
        "outputId": "8390f67a-96d3-4857-cf48-3bed6faee305"
      },
      "execution_count": 12,
      "outputs": [
        {
          "output_type": "stream",
          "name": "stdout",
          "text": [
            "Sum of odd numbers in L: 24\n"
          ]
        }
      ]
    },
    {
      "cell_type": "markdown",
      "source": [
        "(ix)"
      ],
      "metadata": {
        "id": "dfJzL-vb7JwV"
      }
    },
    {
      "cell_type": "code",
      "source": [
        "L = [11, 12, 13, 14]\n",
        "even_sum = sum(num for num in L if num % 2 == 0)\n",
        "print(\"Sum of odd numbers in L:\", even_sum)\n"
      ],
      "metadata": {
        "colab": {
          "base_uri": "https://localhost:8080/"
        },
        "id": "QrYIMQNi7OLa",
        "outputId": "9c9303c0-990b-4826-c0a0-683705c2ec77"
      },
      "execution_count": 13,
      "outputs": [
        {
          "output_type": "stream",
          "name": "stdout",
          "text": [
            "Sum of odd numbers in L: 26\n"
          ]
        }
      ]
    },
    {
      "cell_type": "markdown",
      "source": [
        "(x)"
      ],
      "metadata": {
        "id": "K68S4a6t7Ryo"
      }
    },
    {
      "cell_type": "code",
      "source": [
        "L = [11, 12, 13, 14]\n",
        "def is_prime(num):\n",
        "    if num < 2:\n",
        "        return False\n",
        "    for i in range(2, int(num ** 0.5) + 1):\n",
        "        if num % i == 0:\n",
        "            return False\n",
        "    return True\n",
        "\n",
        "prime_sum = sum(num for num in L if is_prime(num))\n",
        "print(\"Sum of prime numbers in L:\", prime_sum)\n"
      ],
      "metadata": {
        "colab": {
          "base_uri": "https://localhost:8080/"
        },
        "id": "TDynYOVM7TWv",
        "outputId": "0f7daa0e-fa9c-4761-f46c-08d652e616dc"
      },
      "execution_count": 10,
      "outputs": [
        {
          "output_type": "stream",
          "name": "stdout",
          "text": [
            "Sum of prime numbers in L: 24\n"
          ]
        }
      ]
    },
    {
      "cell_type": "markdown",
      "source": [
        "(xi)"
      ],
      "metadata": {
        "id": "wX5J0n127YY5"
      }
    },
    {
      "cell_type": "code",
      "source": [
        "L = [11, 12, 13, 14]\n",
        "L.clear()\n",
        "print(L)\n"
      ],
      "metadata": {
        "colab": {
          "base_uri": "https://localhost:8080/"
        },
        "id": "4zCddptn7ZpD",
        "outputId": "0b3848b5-dcc4-4110-949f-7aa58ad3b83b"
      },
      "execution_count": 8,
      "outputs": [
        {
          "output_type": "stream",
          "name": "stdout",
          "text": [
            "[]\n"
          ]
        }
      ]
    },
    {
      "cell_type": "markdown",
      "source": [
        "(xii)"
      ],
      "metadata": {
        "id": "U5ezEUop7euj"
      }
    },
    {
      "cell_type": "code",
      "source": [
        "L = [11, 12, 13, 14]\n",
        "del L\n"
      ],
      "metadata": {
        "id": "QyFBQRoe7gBD"
      },
      "execution_count": 14,
      "outputs": []
    },
    {
      "cell_type": "markdown",
      "source": [
        "Q2\n"
      ],
      "metadata": {
        "id": "2wT3Mh5I70DI"
      }
    },
    {
      "cell_type": "markdown",
      "source": [
        "all parts "
      ],
      "metadata": {
        "id": "UCLzNg4b72JC"
      }
    },
    {
      "cell_type": "code",
      "source": [
        "D = {1: 5.6, 2: 7.8, 3: 6.6, 4: 8.7, 5: 7.73}\n",
        "D[8] = 8.8\n",
        "del D[2]\n",
        "if 6 in D:\n",
        "    print(\"Key 6 is present in D.\")\n",
        "else:\n",
        "    print(\"Key 6 is not present in D.\")\n",
        "num_elements = len(D)\n",
        "print(\"Number of elements in D:\", num_elements)\n",
        "total_sum = sum(D.values())\n",
        "print(\"Sum of values in D:\", total_sum)\n",
        "D[3] = 7.1\n",
        "D.clear()\n",
        "\n",
        "print(\"Updated dictionary D:\", D)\n"
      ],
      "metadata": {
        "colab": {
          "base_uri": "https://localhost:8080/"
        },
        "id": "Wbm7fXWl73Wp",
        "outputId": "23672c15-6ba9-45e3-9211-6f71c72c5fe7"
      },
      "execution_count": 15,
      "outputs": [
        {
          "output_type": "stream",
          "name": "stdout",
          "text": [
            "Key 6 is not present in D.\n",
            "Number of elements in D: 5\n",
            "Sum of values in D: 37.43\n",
            "Updated dictionary D: {}\n"
          ]
        }
      ]
    },
    {
      "cell_type": "markdown",
      "source": [
        "Q3"
      ],
      "metadata": {
        "id": "Vv3KZ0xd8pjd"
      }
    },
    {
      "cell_type": "code",
      "source": [
        "S1 = {10, 20, 30, 40, 50, 60}\n",
        "S2 = {40, 50, 60, 70, 80, 90}\n",
        "S1.add(55)\n",
        "S1.add(66)\n",
        "S1.remove(10)\n",
        "S1.remove(30)\n",
        "if 40 in S1:\n",
        "    print(\"40 is present in S1.\")\n",
        "else:\n",
        "    print(\"40 is not present in S1.\")\n",
        "union_set = S1.union(S2)\n",
        "print(\"Union of S1 & S2:\", union_set)\n",
        "intersection_set = S1.intersection(S2)\n",
        "print(\"Intersection of S1 & S2:\", intersection_set)\n",
        "difference_set = S1 - S2\n",
        "print(\"S1 - S2:\", difference_set)\n"
      ],
      "metadata": {
        "colab": {
          "base_uri": "https://localhost:8080/"
        },
        "id": "UCo0dB-V8q9t",
        "outputId": "f23ff99e-8c7b-4a93-abfa-84902d569b29"
      },
      "execution_count": 16,
      "outputs": [
        {
          "output_type": "stream",
          "name": "stdout",
          "text": [
            "40 is present in S1.\n",
            "Union of S1 & S2: {66, 70, 40, 80, 50, 20, 55, 90, 60}\n",
            "Intersection of S1 & S2: {40, 50, 60}\n",
            "S1 - S2: {66, 20, 55}\n"
          ]
        }
      ]
    },
    {
      "cell_type": "markdown",
      "source": [
        "Q4"
      ],
      "metadata": {
        "id": "zI5xZAxd9Le0"
      }
    },
    {
      "cell_type": "code",
      "source": [
        "import random\n",
        "for a in range(100):\n",
        "    string_len = random.randint(6, 8)\n",
        "    random_string = ''.join(random.choices('abcdefghijklmnopqrstuvwxyzABCDEFGHIJKLMNOPQRSTWXYZ', k=string_len))\n",
        "    print(random_string)\n",
        "def is_prime(n):\n",
        "    if n < 2:\n",
        "        return False\n",
        "    for i in range(2, int(n ** 0.5) + 1):\n",
        "        if n % i == 0:\n",
        "            return False\n",
        "    return True\n",
        "\n",
        "for num in range(600, 801):\n",
        "    if is_prime(num):\n",
        "        print(num)\n",
        "for num in range(100, 1001):\n",
        "    if num % 7 == 0:\n",
        "        print(num)\n"
      ],
      "metadata": {
        "id": "02431R7v9Moa"
      },
      "execution_count": null,
      "outputs": []
    },
    {
      "cell_type": "markdown",
      "source": [
        "Q5"
      ],
      "metadata": {
        "id": "FSpMu3_F-rBn"
      }
    },
    {
      "cell_type": "code",
      "source": [
        "import random\n",
        "list1 = random.sample(range(10, 31), 10)\n",
        "list2 = random.sample(range(10, 31), 10)\n",
        "\n",
        "print(\"List 1:\", list1)\n",
        "print(\"List 2:\", list2)\n",
        "common_numbers = list(set(list1) & set(list2))\n",
        "print(\"Common numbers:\", common_numbers)\n",
        "unique_numbers = list(set(list1) ^ set(list2))\n",
        "print(\"Unique numbers:\", unique_numbers)\n",
        "minimum = min(min(list1), min(list2))\n",
        "print(\"Minimum:\", minimum)\n",
        "maximum = max(max(list1), max(list2))\n",
        "print(\"Maximum:\", maximum)\n",
        "total_sum = sum(list1) + sum(list2)\n",
        "print(\"Sum of both the lists:\", total_sum)\n"
      ],
      "metadata": {
        "colab": {
          "base_uri": "https://localhost:8080/"
        },
        "id": "nFwvSS6j_Ddj",
        "outputId": "50cffc3e-eb57-40bd-8799-c0a0123344e6"
      },
      "execution_count": 18,
      "outputs": [
        {
          "output_type": "stream",
          "name": "stdout",
          "text": [
            "List 1: [24, 12, 18, 26, 22, 11, 27, 23, 19, 25]\n",
            "List 2: [10, 26, 17, 18, 22, 12, 13, 11, 14, 21]\n",
            "Common numbers: [11, 12, 18, 22, 26]\n",
            "Unique numbers: [10, 13, 14, 17, 19, 21, 23, 24, 25, 27]\n",
            "Minimum: 10\n",
            "Maximum: 27\n",
            "Sum of both the lists: 371\n"
          ]
        }
      ]
    },
    {
      "cell_type": "markdown",
      "source": [
        "Q6"
      ],
      "metadata": {
        "id": "WlvP7eA3DEr9"
      }
    },
    {
      "cell_type": "code",
      "source": [
        "import random\n",
        "\n",
        "def is_prime(num):\n",
        "    if num < 2:\n",
        "        return False\n",
        "    for i in range(2, int(num**0.5) + 1):\n",
        "        if num % i == 0:\n",
        "            return False\n",
        "    return True\n",
        "\n",
        "random_num = random.sample(range(100, 901), 100)\n",
        "odd_num = []\n",
        "even_num = []\n",
        "prime_num = []\n",
        "\n",
        "for num in random_num:\n",
        "    if num % 2 == 0:\n",
        "        even_num.append(num)\n",
        "    else:\n",
        "        odd_num.append(num)\n",
        "    if is_prime(num):\n",
        "        prime_num.append(num)\n",
        "\n",
        "print(\"Odd Nums:\")\n",
        "print(odd_num)\n",
        "print(\"Count:\", len(odd_num))\n",
        "\n",
        "print(\"\\nEven Nums:\")\n",
        "print(even_num)\n",
        "print(\"Count:\", len(even_num))\n",
        "\n",
        "print(\"\\nPrime Nums:\")\n",
        "print(prime_num)\n",
        "print(\"Count:\", len(prime_num))\n"
      ],
      "metadata": {
        "id": "-eonhnR-DGmA"
      },
      "execution_count": null,
      "outputs": []
    },
    {
      "cell_type": "markdown",
      "source": [
        "Q7"
      ],
      "metadata": {
        "id": "fQO4CQ5yDxzK"
      }
    },
    {
      "cell_type": "code",
      "source": [
        "D = {1: \"One\", 2: \"Two\", 3: \"Three\", 4: \"Four\", 5: \"Five\"}\n",
        "with open(\"dictionary_outputQ7.txt\", \"w\") as file:\n",
        "    for key, value in D.items():\n",
        "        file.write(f\"Key{key}, Value{value}\\n\")\n",
        "print(\"Data written to file successfully.\")"
      ],
      "metadata": {
        "colab": {
          "base_uri": "https://localhost:8080/"
        },
        "id": "m4UPHSWoD5gK",
        "outputId": "d68966b6-7cb0-414c-e8e9-61d52abfb36c"
      },
      "execution_count": 27,
      "outputs": [
        {
          "output_type": "stream",
          "name": "stdout",
          "text": [
            "Data written to file successfully.\n"
          ]
        }
      ]
    },
    {
      "cell_type": "markdown",
      "source": [
        "Q8"
      ],
      "metadata": {
        "id": "SYV9hx-dEEDo"
      }
    },
    {
      "cell_type": "code",
      "source": [
        "L = [\"One\", \"Two\", \"Three\", \"Four\", \"Five\"]\n",
        "with open(\"list_outputQ8.txt\", \"w\") as file:\n",
        "    for element in L:\n",
        "        length = len(element)\n",
        "        file.write(f\"{element}, {length}\\n\")\n",
        "\n",
        "print(\"Data written to file successfully.\")\n"
      ],
      "metadata": {
        "colab": {
          "base_uri": "https://localhost:8080/"
        },
        "id": "AWoZvIjSEFAU",
        "outputId": "0725491e-f9c5-4ebd-90ec-f3ec45c9bcd6"
      },
      "execution_count": 28,
      "outputs": [
        {
          "output_type": "stream",
          "name": "stdout",
          "text": [
            "Data written to file successfully.\n"
          ]
        }
      ]
    },
    {
      "cell_type": "markdown",
      "source": [
        "Q9"
      ],
      "metadata": {
        "id": "gqlZHSpF_kyN"
      }
    },
    {
      "cell_type": "code",
      "source": [
        "import random\n",
        "import string\n",
        "\n",
        "def generate_random_string(length):\n",
        "    letters = string.ascii_lowercase\n",
        "    return ''.join(random.choice(letters) for _ in range(length))\n",
        "\n",
        "file_path = \"random_stringsQ9.txt\"\n",
        "\n",
        "with open(file_path, 'w') as file:\n",
        "    for _ in range(100):\n",
        "        string_length = random.randint(10, 15)\n",
        "        random_string = generate_random_string(string_length)\n",
        "        file.write(random_string + '\\n')\n",
        "\n",
        "print(\"Random strings have been written to the file:\", file_path)\n",
        "\n"
      ],
      "metadata": {
        "colab": {
          "base_uri": "https://localhost:8080/"
        },
        "id": "EvNDNcb2_oY3",
        "outputId": "49243937-c111-4653-9b5f-880a3e0c9731"
      },
      "execution_count": 21,
      "outputs": [
        {
          "output_type": "stream",
          "name": "stdout",
          "text": [
            "Random strings have been written to the file: random_stringsQ9.txt\n"
          ]
        }
      ]
    },
    {
      "cell_type": "markdown",
      "source": [
        "Q10"
      ],
      "metadata": {
        "id": "cWqMLWEW_a5H"
      }
    },
    {
      "cell_type": "code",
      "source": [
        "def is_prime(n):\n",
        "    if n < 2:\n",
        "        return False\n",
        "    for i in range(2, int(n ** 0.5) + 1):\n",
        "        if n % i == 0:\n",
        "            return False\n",
        "    return True\n",
        "\n",
        "file_path = \"prime_numbersQ10.txt\" \n",
        "\n",
        "with open(file_path, \"w\") as file:\n",
        "    for num in range(600, 801):\n",
        "        if is_prime(num):\n",
        "            file.write(str(num) + \"\\n\")\n",
        "print(\"Prime numbers have been written to the file:\", file_path)\n"
      ],
      "metadata": {
        "colab": {
          "base_uri": "https://localhost:8080/"
        },
        "id": "Nkz9QSx2_cP2",
        "outputId": "ce02781e-6407-449c-bf87-d4bc7d5f8614"
      },
      "execution_count": 22,
      "outputs": [
        {
          "output_type": "stream",
          "name": "stdout",
          "text": [
            "Prime numbers have been written to the file: prime_numbersQ10.txt\n"
          ]
        }
      ]
    },
    {
      "cell_type": "markdown",
      "source": [
        "Q11"
      ],
      "metadata": {
        "id": "ZVPCz2d_Aqzp"
      }
    },
    {
      "cell_type": "code",
      "source": [
        "import time\n",
        "start_time = time.time()\n",
        "end_time = time.time()\n",
        "elapsed_time = end_time - start_time\n",
        "\n",
        "print(\"Elapsed time: {:.2f} seconds\".format(elapsed_time))\n"
      ],
      "metadata": {
        "colab": {
          "base_uri": "https://localhost:8080/"
        },
        "id": "h8DUryR4Ar8G",
        "outputId": "b0fc2096-2fdc-4a2f-f67e-39e2d200f6d2"
      },
      "execution_count": 23,
      "outputs": [
        {
          "output_type": "stream",
          "name": "stdout",
          "text": [
            "Elapsed time: 0.00 seconds\n"
          ]
        }
      ]
    },
    {
      "cell_type": "markdown",
      "source": [
        "Q12"
      ],
      "metadata": {
        "id": "YuhgZ8syAxQ4"
      }
    },
    {
      "cell_type": "code",
      "source": [
        "def calculate_average(marks):\n",
        "    return sum(marks) / len(marks)\n",
        "student_marks = {\n",
        "    \"sanya \": [50, 90, 92, 88, 95],\n",
        "    \"priya \": [78, 85, 40, 82, 88],\n",
        "    \"sneha \": [90, 92, 85, 88, 95],\n",
        "    \"kiran\": [82, 78, 60, 85, 88],\n",
        "    \"kaiara\": [95, 80, 88, 85, 92]\n",
        "}\n",
        "\n",
        "average_marks = {}\n",
        "for student, marks in student_marks.items():\n",
        "    average_marks[student] = calculate_average(marks)\n",
        "max_average = max(average_marks.values())\n",
        "min_average = min(average_marks.values())\n",
        "students_with_max = [student for student, average in average_marks.items() if average == max_average]\n",
        "students_with_min = [student for student, average in average_marks.items() if average == min_average]\n",
        "\n",
        "print(\"Average Marks:\")\n",
        "for student, average in average_marks.items():\n",
        "    print(student, \":\", average)\n",
        "    \n",
        "print(\"\\nMaximum Average Marks:\", max_average)\n",
        "print(\"Students with maximum average marks:\", students_with_max)\n",
        "\n",
        "print(\"\\nMinimum Average Marks:\", min_average)\n",
        "print(\"Students with minimum average marks:\", students_with_min)\n"
      ],
      "metadata": {
        "colab": {
          "base_uri": "https://localhost:8080/"
        },
        "id": "vXUFZxSSAwjl",
        "outputId": "96f2d95f-f942-4355-c816-353bbb36d575"
      },
      "execution_count": 25,
      "outputs": [
        {
          "output_type": "stream",
          "name": "stdout",
          "text": [
            "Average Marks:\n",
            "sanya  : 83.0\n",
            "priya  : 74.6\n",
            "sneha  : 90.0\n",
            "kiran : 78.6\n",
            "kaiara : 88.0\n",
            "\n",
            "Maximum Average Marks: 90.0\n",
            "Students with maximum average marks: ['sneha ']\n",
            "\n",
            "Minimum Average Marks: 74.6\n",
            "Students with minimum average marks: ['priya ']\n"
          ]
        }
      ]
    }
  ]
}